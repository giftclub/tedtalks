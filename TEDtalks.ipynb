{
 "cells": [
  {
   "cell_type": "markdown",
   "metadata": {},
   "source": [
    "# TED Talk Transcripts"
   ]
  },
  {
   "cell_type": "markdown",
   "metadata": {},
   "source": [
    "## Working Script for Soup"
   ]
  },
  {
   "cell_type": "code",
   "execution_count": 48,
   "metadata": {
    "collapsed": false
   },
   "outputs": [
    {
     "name": "stdout",
     "output_type": "stream",
     "text": [
      "Al Gore\n",
      " Averting the climate crisis \n"
     ]
    },
    {
     "ename": "Error",
     "evalue": "sequence expected",
     "output_type": "error",
     "traceback": [
      "\u001b[0;31m---------------------------------------------------------------------------\u001b[0m",
      "\u001b[0;31mError\u001b[0m                                     Traceback (most recent call last)",
      "\u001b[0;32m<ipython-input-48-fbce23b323ea>\u001b[0m in \u001b[0;36m<module>\u001b[0;34m()\u001b[0m\n\u001b[1;32m     20\u001b[0m         \u001b[0mwriter\u001b[0m \u001b[0;34m=\u001b[0m \u001b[0mcsv\u001b[0m\u001b[0;34m.\u001b[0m\u001b[0mwriter\u001b[0m\u001b[0;34m(\u001b[0m\u001b[0mcsv_file\u001b[0m\u001b[0;34m,\u001b[0m \u001b[0mdelimiter\u001b[0m\u001b[0;34m=\u001b[0m\u001b[0;34m','\u001b[0m\u001b[0;34m)\u001b[0m\u001b[0;34m\u001b[0m\u001b[0m\n\u001b[1;32m     21\u001b[0m         \u001b[0;32mfor\u001b[0m \u001b[0mitem\u001b[0m \u001b[0;32min\u001b[0m \u001b[0mdata\u001b[0m\u001b[0;34m:\u001b[0m\u001b[0;34m\u001b[0m\u001b[0m\n\u001b[0;32m---> 22\u001b[0;31m             \u001b[0mwriter\u001b[0m\u001b[0;34m.\u001b[0m\u001b[0mwriterow\u001b[0m\u001b[0;34m(\u001b[0m\u001b[0mitem\u001b[0m\u001b[0;34m)\u001b[0m\u001b[0;34m\u001b[0m\u001b[0m\n\u001b[0m",
      "\u001b[0;31mError\u001b[0m: sequence expected"
     ]
    }
   ],
   "source": [
    "import glob, re, csv\n",
    "from bs4 import BeautifulSoup as soup                                                     \n",
    "\n",
    "the_file = \"/Users/john/Code/tedtalks/test/transcript?language=en.0\"\n",
    "holding = soup(open(the_file).read(), \"lxml\")\n",
    "at = holding.find(\"title\").text\n",
    "author = at[0:at.find(':')]\n",
    "title  = at[at.find(\":\")+1 : at.find(\"|\") ]\n",
    "date = re.sub('[^a-zA-Z0-9]',' ', holding.select_one(\"span.meta__val\").text)\n",
    "length_data = holding.find_all('data', {'class' : 'talk-transcript__para__time'})\n",
    "(m, s) = ([x.get_text().strip(\"\\n\\r\") \n",
    "      for x in length_data if re.search(r\"(?s)\\d{2}:\\d{2}\", \n",
    "                                        x.get_text().strip(\"\\n\\r\"))][-1]).split(':')\n",
    "length = int(m) * 60 + int(s)\n",
    "firstpass = re.sub(r'\\([^)]*\\)', '', holding.find('div', class_ = 'talk-transcript__body').text)\n",
    "text = re.sub('[^a-zA-Z\\.\\']',' ', firstpass)\n",
    "data = [[author], print(title)]\n",
    "# print(data)\n",
    "with open(\"./output.csv\", \"w\", newline = \"\") as csv_file:\n",
    "        writer = csv.writer(csv_file, delimiter=',')\n",
    "        for item in data:\n",
    "            writer.writerow(item)"
   ]
  },
  {
   "cell_type": "markdown",
   "metadata": {},
   "source": [
    "## Working Bit to Read a Directory into a List"
   ]
  },
  {
   "cell_type": "code",
   "execution_count": 8,
   "metadata": {
    "collapsed": false
   },
   "outputs": [
    {
     "name": "stdout",
     "output_type": "stream",
     "text": [
      "['/Users/john/Code/tedtalks/test/transcript?language=en.0', '/Users/john/Code/tedtalks/test/transcript?language=en.1', '/Users/john/Code/tedtalks/test/transcript?language=en.2']\n"
     ]
    }
   ],
   "source": [
    "file_list = glob.glob('/Users/john/Code/tedtalks/test/*') # produces list\n",
    "print(file_list)"
   ]
  },
  {
   "cell_type": "markdown",
   "metadata": {},
   "source": [
    "## This Should Work... (but it doesn't)"
   ]
  },
  {
   "cell_type": "code",
   "execution_count": 21,
   "metadata": {
    "collapsed": false
   },
   "outputs": [
    {
     "name": "stdout",
     "output_type": "stream",
     "text": [
      "None\n",
      "None\n",
      "None\n"
     ]
    }
   ],
   "source": [
    "# Script to read 2113 texts and write them to a single csv \n",
    "# file with metadata for AUTHOR, TITLE, DATE, LENGTH.\n",
    "\n",
    "import glob, re, csv\n",
    "from bs4 import BeautifulSoup as soup                                                     \n",
    "\n",
    "file_list = glob.glob('/Users/john/Code/tedtalks/test/*') # produces list\n",
    "\n",
    "# Now to walk through list\n",
    "for the_file in file_list:\n",
    "    the_list = []\n",
    "    holding = soup(open(the_file).read(), \"lxml\")\n",
    "    at = holding.find(\"title\").text\n",
    "    author = at[0:at.find(':')]\n",
    "    title  = at[at.find(\":\")+1 : at.find(\"|\") ]\n",
    "    date = re.sub('[^a-zA-Z0-9]',' ', holding.select_one(\"span.meta__val\").text)\n",
    "    length_data = holding.find_all('data', {'class' : 'talk-transcript__para__time'})\n",
    "    (m, s) = ([x.get_text().strip(\"\\n\\r\") \n",
    "          for x in length_data if re.search(r\"(?s)\\d{2}:\\d{2}\", \n",
    "                                            x.get_text().strip(\"\\n\\r\"))][-1]).split(':')\n",
    "    length = int(m) * 60 + int(s)\n",
    "    firstpass = re.sub(r'\\([^)]*\\)', '', holding.find('div', class_ = 'talk-transcript__body').text)\n",
    "    text = re.sub('[^a-zA-Z\\.\\']',' ', firstpass)\n",
    "    the_list = the_list.append(author)\n",
    "    print(the_list)"
   ]
  },
  {
   "cell_type": "code",
   "execution_count": 45,
   "metadata": {
    "collapsed": false
   },
   "outputs": [
    {
     "ename": "AttributeError",
     "evalue": "'ResultSet' object has no attribute 'find'",
     "output_type": "error",
     "traceback": [
      "\u001b[0;31m---------------------------------------------------------------------------\u001b[0m",
      "\u001b[0;31mAttributeError\u001b[0m                            Traceback (most recent call last)",
      "\u001b[0;32m<ipython-input-45-c00a443808b1>\u001b[0m in \u001b[0;36m<module>\u001b[0;34m()\u001b[0m\n\u001b[1;32m      4\u001b[0m \u001b[0;32mfor\u001b[0m \u001b[0mfile\u001b[0m \u001b[0;32min\u001b[0m \u001b[0mglob\u001b[0m\u001b[0;34m.\u001b[0m\u001b[0mglob\u001b[0m\u001b[0;34m(\u001b[0m\u001b[0;34m\"../test/*\"\u001b[0m\u001b[0;34m)\u001b[0m\u001b[0;34m:\u001b[0m\u001b[0;34m\u001b[0m\u001b[0m\n\u001b[1;32m      5\u001b[0m     \u001b[0msoup\u001b[0m \u001b[0;34m=\u001b[0m \u001b[0msoup\u001b[0m\u001b[0;34m(\u001b[0m\u001b[0mopen\u001b[0m\u001b[0;34m(\u001b[0m\u001b[0mfile\u001b[0m\u001b[0;34m)\u001b[0m\u001b[0;34m.\u001b[0m\u001b[0mread\u001b[0m\u001b[0;34m(\u001b[0m\u001b[0;34m)\u001b[0m\u001b[0;34m,\u001b[0m \u001b[0;34m\"lxml\"\u001b[0m\u001b[0;34m)\u001b[0m\u001b[0;34m\u001b[0m\u001b[0m\n\u001b[0;32m----> 6\u001b[0;31m     \u001b[0mat\u001b[0m \u001b[0;34m=\u001b[0m \u001b[0msoup\u001b[0m\u001b[0;34m.\u001b[0m\u001b[0mfind\u001b[0m\u001b[0;34m(\u001b[0m\u001b[0;34m\"title\"\u001b[0m\u001b[0;34m)\u001b[0m\u001b[0;34m.\u001b[0m\u001b[0mtext\u001b[0m\u001b[0;34m\u001b[0m\u001b[0m\n\u001b[0m\u001b[1;32m      7\u001b[0m     \u001b[0mauthor\u001b[0m \u001b[0;34m=\u001b[0m \u001b[0mat\u001b[0m\u001b[0;34m[\u001b[0m\u001b[0;36m0\u001b[0m\u001b[0;34m:\u001b[0m\u001b[0mat\u001b[0m\u001b[0;34m.\u001b[0m\u001b[0mfind\u001b[0m\u001b[0;34m(\u001b[0m\u001b[0;34m':'\u001b[0m\u001b[0;34m)\u001b[0m\u001b[0;34m]\u001b[0m\u001b[0;34m\u001b[0m\u001b[0m\n\u001b[1;32m      8\u001b[0m     \u001b[0mtitle\u001b[0m  \u001b[0;34m=\u001b[0m \u001b[0mat\u001b[0m\u001b[0;34m[\u001b[0m\u001b[0mat\u001b[0m\u001b[0;34m.\u001b[0m\u001b[0mfind\u001b[0m\u001b[0;34m(\u001b[0m\u001b[0;34m\":\"\u001b[0m\u001b[0;34m)\u001b[0m\u001b[0;34m+\u001b[0m\u001b[0;36m1\u001b[0m \u001b[0;34m:\u001b[0m \u001b[0mat\u001b[0m\u001b[0;34m.\u001b[0m\u001b[0mfind\u001b[0m\u001b[0;34m(\u001b[0m\u001b[0;34m\"|\"\u001b[0m\u001b[0;34m)\u001b[0m \u001b[0;34m]\u001b[0m\u001b[0;34m\u001b[0m\u001b[0m\n",
      "\u001b[0;31mAttributeError\u001b[0m: 'ResultSet' object has no attribute 'find'"
     ]
    }
   ],
   "source": [
    "    myfile = open('../outputs/tedtalkstest.csv', 'w', newline='')\n",
    "    writer=csv.writer(myfile, delimiter=',',quoting=csv.QUOTE_MINIMAL)\n",
    "    writer.writerow((author,title,date,length,text))\n",
    "    myfile.close()\n",
    "\n",
    "\n",
    "myratings = [   [\"Movie\", \"Rating\"],\n",
    "                [\"Rebel Without a Cause\", \"3\"],\n",
    "                [\"Monty Python's Life of Brian\", \"5\"],\n",
    "                [\"Santa Claus Conquers the Martians\", \"0\"] ]\n",
    "\n",
    "with open(os.path.join(mypath, \"tedtest.csv\"), \"w\") as myfile:\n",
    "    myfilewriter = csv.writer(myfile)\n",
    "    myfilewriter.writerows(myratings)"
   ]
  }
 ],
 "metadata": {
  "kernelspec": {
   "display_name": "Python 3",
   "language": "python",
   "name": "python3"
  },
  "language_info": {
   "codemirror_mode": {
    "name": "ipython",
    "version": 3
   },
   "file_extension": ".py",
   "mimetype": "text/x-python",
   "name": "python",
   "nbconvert_exporter": "python",
   "pygments_lexer": "ipython3",
   "version": "3.4.4"
  }
 },
 "nbformat": 4,
 "nbformat_minor": 0
}
