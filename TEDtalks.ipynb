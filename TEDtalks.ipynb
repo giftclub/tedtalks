{
 "cells": [
  {
   "cell_type": "markdown",
   "metadata": {},
   "source": [
    "# TED Talk Transcripts"
   ]
  },
  {
   "cell_type": "markdown",
   "metadata": {},
   "source": [
    "## Getting What I Want Out of the HTML\n",
    "\n",
    "### Author\n",
    "```\n",
    "<h4 class='h12 talk-link__speaker'>Al Gore</h4>\n",
    "```\n",
    "\n",
    "### Author and Title\n",
    "```\n",
    "<title>Al Gore: Averting the climate crisis | TED Talk Subtitles and Transcript | TED.com</title>\n",
    "```\n",
    "\n",
    "### Date\n",
    "```\n",
    "<div class='meta'>\n",
    "<span class='meta__item'>\n",
    "Posted\n",
    "<span class='meta__val'>\n",
    "Jun 2006\n",
    "</span>\n",
    "</span>\n",
    "<span class='meta__row'>\n",
    "Rated\n",
    "<span class='meta__val'>\n",
    "Funny, Informative\n",
    "</span>\n",
    "</span>\n",
    "</div>\n",
    "```\n",
    "\n",
    "### Length\n",
    "\n",
    "Length is probably best estimated by the last of the times:\n",
    "```\n",
    "<data class='talk-transcript__para__time'>\n",
    "15:57\n",
    "</data>\n",
    "```\n",
    "\n",
    "### Text\n",
    "\n",
    "It looks like the actual \"talk\" is contained in the the div: `<div class='talk-article__body talk-transcript__body'>` and then paragraphing is achieved with: `<span class='talk-transcript__para__text'>`. (It would be nice, perhaps, to keep the paragraphing? But it is, above all, a transcription artifact.)\n",
    "\n",
    "\n",
    "## CSV\n",
    "\n",
    "I think I want all this in a CSV in order to have a data structure. If so, what I want to do: \n",
    "\n",
    "* Pull author either from `h4` or from `title` and place it in an *author* column.\n",
    "* Pull title from `title` and place it in a *title* column.\n",
    "* Pull date from `meta` and place it in *date* column.\n",
    "* Pull the length of the file from the transcript above and place it in a *length* column.\n",
    "* Pull the text from `talk-transcript__body` and place it in a *text* column.\n",
    "\n",
    "I think I can do all this with **`BeautifulSoup`**, and I imagine I need to:\n",
    "\n",
    "1. Read a file.\n",
    "2. Grab these elements and place them in a list.\n",
    "3. Write list to line in CSV file.\n",
    "\n",
    "So, what I need to do first is come up with the **`BeautifulSoup`** that will do this."
   ]
  },
  {
   "cell_type": "code",
   "execution_count": 45,
   "metadata": {
    "collapsed": false
   },
   "outputs": [
    {
     "ename": "AttributeError",
     "evalue": "'ResultSet' object has no attribute 'find'",
     "output_type": "error",
     "traceback": [
      "\u001b[0;31m---------------------------------------------------------------------------\u001b[0m",
      "\u001b[0;31mAttributeError\u001b[0m                            Traceback (most recent call last)",
      "\u001b[0;32m<ipython-input-45-c00a443808b1>\u001b[0m in \u001b[0;36m<module>\u001b[0;34m()\u001b[0m\n\u001b[1;32m      4\u001b[0m \u001b[0;32mfor\u001b[0m \u001b[0mfile\u001b[0m \u001b[0;32min\u001b[0m \u001b[0mglob\u001b[0m\u001b[0;34m.\u001b[0m\u001b[0mglob\u001b[0m\u001b[0;34m(\u001b[0m\u001b[0;34m\"../test/*\"\u001b[0m\u001b[0;34m)\u001b[0m\u001b[0;34m:\u001b[0m\u001b[0;34m\u001b[0m\u001b[0m\n\u001b[1;32m      5\u001b[0m     \u001b[0msoup\u001b[0m \u001b[0;34m=\u001b[0m \u001b[0msoup\u001b[0m\u001b[0;34m(\u001b[0m\u001b[0mopen\u001b[0m\u001b[0;34m(\u001b[0m\u001b[0mfile\u001b[0m\u001b[0;34m)\u001b[0m\u001b[0;34m.\u001b[0m\u001b[0mread\u001b[0m\u001b[0;34m(\u001b[0m\u001b[0;34m)\u001b[0m\u001b[0;34m,\u001b[0m \u001b[0;34m\"lxml\"\u001b[0m\u001b[0;34m)\u001b[0m\u001b[0;34m\u001b[0m\u001b[0m\n\u001b[0;32m----> 6\u001b[0;31m     \u001b[0mat\u001b[0m \u001b[0;34m=\u001b[0m \u001b[0msoup\u001b[0m\u001b[0;34m.\u001b[0m\u001b[0mfind\u001b[0m\u001b[0;34m(\u001b[0m\u001b[0;34m\"title\"\u001b[0m\u001b[0;34m)\u001b[0m\u001b[0;34m.\u001b[0m\u001b[0mtext\u001b[0m\u001b[0;34m\u001b[0m\u001b[0m\n\u001b[0m\u001b[1;32m      7\u001b[0m     \u001b[0mauthor\u001b[0m \u001b[0;34m=\u001b[0m \u001b[0mat\u001b[0m\u001b[0;34m[\u001b[0m\u001b[0;36m0\u001b[0m\u001b[0;34m:\u001b[0m\u001b[0mat\u001b[0m\u001b[0;34m.\u001b[0m\u001b[0mfind\u001b[0m\u001b[0;34m(\u001b[0m\u001b[0;34m':'\u001b[0m\u001b[0;34m)\u001b[0m\u001b[0;34m]\u001b[0m\u001b[0;34m\u001b[0m\u001b[0m\n\u001b[1;32m      8\u001b[0m     \u001b[0mtitle\u001b[0m  \u001b[0;34m=\u001b[0m \u001b[0mat\u001b[0m\u001b[0;34m[\u001b[0m\u001b[0mat\u001b[0m\u001b[0;34m.\u001b[0m\u001b[0mfind\u001b[0m\u001b[0;34m(\u001b[0m\u001b[0;34m\":\"\u001b[0m\u001b[0;34m)\u001b[0m\u001b[0;34m+\u001b[0m\u001b[0;36m1\u001b[0m \u001b[0;34m:\u001b[0m \u001b[0mat\u001b[0m\u001b[0;34m.\u001b[0m\u001b[0mfind\u001b[0m\u001b[0;34m(\u001b[0m\u001b[0;34m\"|\"\u001b[0m\u001b[0;34m)\u001b[0m \u001b[0;34m]\u001b[0m\u001b[0;34m\u001b[0m\u001b[0m\n",
      "\u001b[0;31mAttributeError\u001b[0m: 'ResultSet' object has no attribute 'find'"
     ]
    }
   ],
   "source": [
    "import glob, re, csv\n",
    "from bs4 import BeautifulSoup as soup                                                     \n",
    "\n",
    "for file in glob.glob(\"../test/*\"):\n",
    "    soup = soup(open(file).read(), \"lxml\")\n",
    "    at = soup.find(\"title\").text\n",
    "    author = at[0:at.find(':')]\n",
    "    title  = at[at.find(\":\")+1 : at.find(\"|\") ]\n",
    "    date = re.sub('[^a-zA-Z0-9]',' ', soup.select_one(\"span.meta__val\").text)\n",
    "    length_data = soup.find_all('data', {'class' : 'talk-transcript__para__time'})\n",
    "    (m, s) = ([x.get_text().strip(\"\\n\\r\") \n",
    "          for x in length_data if re.search(r\"(?s)\\d{2}:\\d{2}\", \n",
    "                                            x.get_text().strip(\"\\n\\r\"))][-1]).split(':')\n",
    "    length = int(m) * 60 + int(s)\n",
    "    firstpass = re.sub(r'\\([^)]*\\)', '', soup.find('div', class_ = 'talk-transcript__body').text)\n",
    "    text = re.sub('[^a-zA-Z\\.\\']',' ', first)\n",
    "    myfile = open('../outputs/tedtalkstest.csv', 'w', newline='')\n",
    "    writer=csv.writer(myfile, delimiter=',',quoting=csv.QUOTE_MINIMAL)\n",
    "    writer.writerow((author,title,date,length,text))\n",
    "    myfile.close()"
   ]
  },
  {
   "cell_type": "code",
   "execution_count": 53,
   "metadata": {
    "collapsed": false
   },
   "outputs": [
    {
     "name": "stdout",
     "output_type": "stream",
     "text": [
      "Al Gore: Averting the climate crisis | TED Talk Subtitles and Transcript | TED.com\n"
     ]
    },
    {
     "ename": "AttributeError",
     "evalue": "'ResultSet' object has no attribute 'title'",
     "output_type": "error",
     "traceback": [
      "\u001b[0;31m---------------------------------------------------------------------------\u001b[0m",
      "\u001b[0;31mAttributeError\u001b[0m                            Traceback (most recent call last)",
      "\u001b[0;32m<ipython-input-53-35150b526a2b>\u001b[0m in \u001b[0;36m<module>\u001b[0;34m()\u001b[0m\n\u001b[1;32m      4\u001b[0m \u001b[0;32mfor\u001b[0m \u001b[0mfile\u001b[0m \u001b[0;32min\u001b[0m \u001b[0mglob\u001b[0m\u001b[0;34m.\u001b[0m\u001b[0mglob\u001b[0m\u001b[0;34m(\u001b[0m\u001b[0;34m'../test/*'\u001b[0m\u001b[0;34m)\u001b[0m\u001b[0;34m:\u001b[0m\u001b[0;34m\u001b[0m\u001b[0m\n\u001b[1;32m      5\u001b[0m     \u001b[0msoup\u001b[0m \u001b[0;34m=\u001b[0m \u001b[0msoup\u001b[0m\u001b[0;34m(\u001b[0m\u001b[0mopen\u001b[0m\u001b[0;34m(\u001b[0m\u001b[0mfile\u001b[0m\u001b[0;34m)\u001b[0m\u001b[0;34m.\u001b[0m\u001b[0mread\u001b[0m\u001b[0;34m(\u001b[0m\u001b[0;34m)\u001b[0m\u001b[0;34m,\u001b[0m \u001b[0;34m\"lxml\"\u001b[0m\u001b[0;34m)\u001b[0m\u001b[0;34m\u001b[0m\u001b[0m\n\u001b[0;32m----> 6\u001b[0;31m     \u001b[0mat\u001b[0m \u001b[0;34m=\u001b[0m \u001b[0msoup\u001b[0m\u001b[0;34m.\u001b[0m\u001b[0mtitle\u001b[0m\u001b[0;34m.\u001b[0m\u001b[0mstring\u001b[0m\u001b[0;34m\u001b[0m\u001b[0m\n\u001b[0m\u001b[1;32m      7\u001b[0m     \u001b[0mprint\u001b[0m\u001b[0;34m(\u001b[0m\u001b[0mat\u001b[0m\u001b[0;34m)\u001b[0m\u001b[0;34m\u001b[0m\u001b[0m\n",
      "\u001b[0;31mAttributeError\u001b[0m: 'ResultSet' object has no attribute 'title'"
     ]
    }
   ],
   "source": [
    "import glob\n",
    "from bs4 import BeautifulSoup as soup                                                     \n",
    "\n",
    "for file in glob.glob('../test/*'):\n",
    "    soup = soup(open(file).read(), \"lxml\")\n",
    "    at = soup.title.string\n",
    "    print(at)"
   ]
  },
  {
   "cell_type": "markdown",
   "metadata": {},
   "source": [
    "---"
   ]
  },
  {
   "cell_type": "code",
   "execution_count": null,
   "metadata": {
    "collapsed": true
   },
   "outputs": [],
   "source": [
    "# To get rid of numbers in a string:\n",
    "\n",
    "# A list comprehension\n",
    "clean = ''.join(i for i in text if not i.isdigit())"
   ]
  },
  {
   "cell_type": "markdown",
   "metadata": {},
   "source": [
    "## Features\n",
    "\n",
    "* Text length/time would give us a sense of pacing. And if we can pull the popularity of the talks into the analysis, we might know something about what's the \"preferred\" pace for TED talks."
   ]
  },
  {
   "cell_type": "markdown",
   "metadata": {},
   "source": [
    "---\n",
    "\n",
    "## Operations\n",
    "\n",
    "### Rename Files\n",
    "\n",
    "I'm looking for this:\n",
    "\n",
    "    <link href=\"http://www.ted.com/talks/al_gore_on_averting_climate_crisis/transcript\" rel=\"canonical\" />\n",
    "    \n",
    "And I want to name the file: `al_gore_on_averting_climate_crisis`."
   ]
  },
  {
   "cell_type": "code",
   "execution_count": null,
   "metadata": {
    "collapsed": true
   },
   "outputs": [],
   "source": [
    "# Early attempt at re-naming files\n",
    "filepath = os.path.abspath('/Users/john/Code/ted/transcript?language=en')\n",
    "fileopen = open(filepath).read()\n",
    "title = soup.find_all('link', 'rel=\"canonical\"')\n",
    "\n",
    "# os.rename(old_file_name, new_file_name)\n",
    "print(title)\n",
    "\n",
    "# Early attempt to get the date:\n",
    "#date_spans = soup.find_all('span', {'class' : 'meta__val'})\n",
    "#date = [x.get_text().strip(\"\\n\\r\") for x in date_spans if re.search(r\"(?s)[A-Z][a-z]{2}\\s+\\d{4}\", x.get_text().strip(\"\\n\\r\"))][0]"
   ]
  }
 ],
 "metadata": {
  "kernelspec": {
   "display_name": "Python 3",
   "language": "python",
   "name": "python3"
  },
  "language_info": {
   "codemirror_mode": {
    "name": "ipython",
    "version": 3
   },
   "file_extension": ".py",
   "mimetype": "text/x-python",
   "name": "python",
   "nbconvert_exporter": "python",
   "pygments_lexer": "ipython3",
   "version": "3.4.4"
  }
 },
 "nbformat": 4,
 "nbformat_minor": 0
}
