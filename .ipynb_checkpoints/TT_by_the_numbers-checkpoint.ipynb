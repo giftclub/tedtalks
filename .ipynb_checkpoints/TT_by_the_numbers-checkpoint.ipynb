{
 "cells": [
  {
   "cell_type": "code",
   "execution_count": 2,
   "metadata": {
    "collapsed": false
   },
   "outputs": [],
   "source": [
    "# Compilation of imports used in this notebook\n",
    "\n",
    "import pandas\n",
    "import matplotlib.pyplot as plt\n",
    "import matplotlib\n",
    "matplotlib.style.use('ggplot')\n",
    "\n",
    "# And, while we're at it, a little Jupyter magic:\n",
    "%matplotlib inline"
   ]
  },
  {
   "cell_type": "code",
   "execution_count": 4,
   "metadata": {
    "collapsed": true
   },
   "outputs": [],
   "source": [
    "import pandas\n",
    "colnames = ['author', 'title', 'date' , 'length', 'text']\n",
    "data = pandas.read_csv('./talks-v1b.csv', names=colnames)\n",
    "lengths = data.length.tolist()"
   ]
  },
  {
   "cell_type": "code",
   "execution_count": 6,
   "metadata": {
    "collapsed": false
   },
   "outputs": [
    {
     "name": "stdout",
     "output_type": "stream",
     "text": [
      "<class 'list'> 2113 11.9666666667\n"
     ]
    }
   ],
   "source": [
    "# Some checking of results\n",
    "print(type(lengths), len(lengths), (lengths[185]/60))"
   ]
  },
  {
   "cell_type": "code",
   "execution_count": null,
   "metadata": {
    "collapsed": true
   },
   "outputs": [],
   "source": [
    "# Import data from file into dataframe\n",
    "df = pd.read_csv(\"./talks-v1b.csv\", \",\")\n",
    "\n",
    "# Sort by the longest text\n",
    "by_longest = df.sort(columns='length', ascending=False) \n",
    "\n",
    "# Draw the graph (note use of ggplot)\n",
    "mpl.style.use('ggplot')\n",
    "ax = by_longest[['length','lexicon']].plot(kind='bar', \n",
    "                                           title =\"Text Stats\",\n",
    "                                           figsize=(15,10),\n",
    "                                           legend=True,\n",
    "                                           fontsize=12)\n",
    "ax.set_xlabel(\"Text\",fontsize=12)\n",
    "ax.set_ylabel(\"Word Count\",fontsize=12)\n",
    "ax.set_xticklabels(list(by_longest['text'])) \n",
    "mpl.pyplot.show()"
   ]
  }
 ],
 "metadata": {
  "kernelspec": {
   "display_name": "Python 3",
   "language": "python",
   "name": "python3"
  },
  "language_info": {
   "codemirror_mode": {
    "name": "ipython",
    "version": 3
   },
   "file_extension": ".py",
   "mimetype": "text/x-python",
   "name": "python",
   "nbconvert_exporter": "python",
   "pygments_lexer": "ipython3",
   "version": "3.4.4"
  }
 },
 "nbformat": 4,
 "nbformat_minor": 0
}
