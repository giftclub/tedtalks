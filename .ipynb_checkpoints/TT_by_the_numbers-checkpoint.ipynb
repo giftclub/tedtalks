{
 "cells": [
  {
   "cell_type": "code",
   "execution_count": 32,
   "metadata": {
    "collapsed": false
   },
   "outputs": [],
   "source": [
    "# Compilation of imports used in this notebook\n",
    "\n",
    "import re\n",
    "import pandas as pd\n",
    "import matplotlib.pyplot as plt\n",
    "import matplotlib\n",
    "matplotlib.style.use('ggplot')\n",
    "\n",
    "# And, while we're at it, a little Jupyter magic:\n",
    "%matplotlib inline"
   ]
  },
  {
   "cell_type": "code",
   "execution_count": 2,
   "metadata": {
    "collapsed": true
   },
   "outputs": [],
   "source": [
    "colnames = ['author', 'title', 'date' , 'length', 'text']\n",
    "data = pd.read_csv('./talks-v1b.csv', names=colnames)\n",
    "lengths = data.length.tolist()"
   ]
  },
  {
   "cell_type": "code",
   "execution_count": 3,
   "metadata": {
    "collapsed": false
   },
   "outputs": [
    {
     "name": "stdout",
     "output_type": "stream",
     "text": [
      "<class 'list'> 2113 11.9666666667\n"
     ]
    }
   ],
   "source": [
    "# Some checking of results\n",
    "print(type(lengths), len(lengths), (lengths[185]/60))"
   ]
  },
  {
   "cell_type": "markdown",
   "metadata": {},
   "source": [
    "## Lengths"
   ]
  },
  {
   "cell_type": "code",
   "execution_count": 18,
   "metadata": {
    "collapsed": false
   },
   "outputs": [
    {
     "name": "stdout",
     "output_type": "stream",
     "text": [
      "Mean: 785.00. Median: 838.00. Mode: 11.00.\n"
     ]
    }
   ],
   "source": [
    "import statistics\n",
    "\n",
    "sorted_lengths = sorted(lengths)\n",
    "len_mean = statistics.mean(sorted_lengths)\n",
    "len_median = statistics.median(sorted_lengths)\n",
    "len_mode = statistics.mode(sorted_lengths)\n",
    "print(\"Mean: %2.2f. Median: %2.2f. Mode: %2.2f.\" % (len_mean, len_median, len_mode))"
   ]
  },
  {
   "cell_type": "code",
   "execution_count": 20,
   "metadata": {
    "collapsed": false
   },
   "outputs": [
    {
     "name": "stdout",
     "output_type": "stream",
     "text": [
      "The average TED talk is 13:05.\n"
     ]
    }
   ],
   "source": [
    "m, s = divmod(len_mean, 60)\n",
    "print(\"The average TED talk is %02d:%02d.\" % (m, s))"
   ]
  },
  {
   "cell_type": "code",
   "execution_count": null,
   "metadata": {
    "collapsed": false
   },
   "outputs": [],
   "source": [
    "# Import data from file into dataframe\n",
    "df = pd.read_csv(\"./talks-v1b.csv\", \",\")\n",
    "\n",
    "# Sort by the longest text\n",
    "by_longest = df.sort_values(['length'], ascending=[True])\n",
    "\n",
    "# Draw the graph\n",
    "mpl.style.use('ggplot')\n",
    "ax = by_longest[['length','lexicon']].plot(kind='bar', \n",
    "                                           title =\"Lengths\",\n",
    "                                           figsize=(15,10),\n",
    "                                           legend=True,\n",
    "                                           fontsize=12)\n",
    "ax.set_xlabel(\"Text\",fontsize=12)\n",
    "ax.set_ylabel(\"Word Count\",fontsize=12)\n",
    "ax.set_xticklabels(list(by_longest['text'])) \n",
    "mpl.pyplot.show()"
   ]
  },
  {
   "cell_type": "markdown",
   "metadata": {},
   "source": [
    "## Titles"
   ]
  },
  {
   "cell_type": "code",
   "execution_count": 22,
   "metadata": {
    "collapsed": true
   },
   "outputs": [],
   "source": [
    "titles = data.title.tolist()"
   ]
  },
  {
   "cell_type": "code",
   "execution_count": 76,
   "metadata": {
    "collapsed": false
   },
   "outputs": [],
   "source": [
    "import re\n",
    "from stop_words import get_stop_words\n",
    "from collections import defaultdict\n",
    "\n",
    "# remove common words and tokenize\n",
    "stoplist = set(get_stop_words('en'))\n",
    "texts = [[word for word in title.lower().split() if word not in stoplist]\n",
    "         for title in titles]\n",
    "# remove words that appear only once\n",
    "from collections import defaultdict\n",
    "frequency = defaultdict(int)\n",
    "for text in texts:\n",
    "    for token in text:\n",
    "        frequency[token] += 1\n",
    "titlewords = [[token for token in text if frequency[token] > 1]\n",
    "         for text in texts]"
   ]
  },
  {
   "cell_type": "markdown",
   "metadata": {},
   "source": [
    "**`titlewords`** is a list of lists with each list being the words remaining in a title after removing stop words and words that occur only once. For example:\n",
    "\n",
    "    Averting the climate crisis > climate, crisis  \n",
    "    Simplicity sells > simplicity  \n",
    "    My wish: A call for open-source architecture > wish, call, open-source, architecture  \n",
    "    The genesis of Google > google  \n",
    "    Art made of storms > art, made  \n",
    "    \n",
    "A dictionary that paired a talk with its list contents would probably be useful. *Sigh.*"
   ]
  },
  {
   "cell_type": "code",
   "execution_count": null,
   "metadata": {
    "collapsed": false
   },
   "outputs": [],
   "source": [
    "titlewords_all = sum(titlewords, [])\n",
    "title_just_words = [re.sub(r'[^A-Za-z]+', '', x) for x in titlewords_all]\n",
    "\n",
    "# Let's count some words:\n",
    "def wordListToFreqDict(wordlist):\n",
    "    wordfreq = [wordlist.count(p) for p in wordlist]\n",
    "    return dict(zip(wordlist,wordfreq))\n",
    "\n",
    "def sortFreqDict(freqdict):\n",
    "    aux = [(freqdict[key], key) for key in freqdict]\n",
    "    aux.sort()\n",
    "    aux.reverse()\n",
    "    return aux\n",
    "    \n",
    "dictionary = wordListToFreqDict(title_just_words)\n",
    "sorteddict = sortFreqDict(dictionary)\n",
    "\n",
    "# Getting rid of null artifact\n",
    "sorteddict.pop(0)"
   ]
  },
  {
   "cell_type": "code",
   "execution_count": null,
   "metadata": {
    "collapsed": true
   },
   "outputs": [],
   "source": []
  }
 ],
 "metadata": {
  "kernelspec": {
   "display_name": "Python 3",
   "language": "python",
   "name": "python3"
  },
  "language_info": {
   "codemirror_mode": {
    "name": "ipython",
    "version": 3
   },
   "file_extension": ".py",
   "mimetype": "text/x-python",
   "name": "python",
   "nbconvert_exporter": "python",
   "pygments_lexer": "ipython3",
   "version": "3.4.4"
  }
 },
 "nbformat": 4,
 "nbformat_minor": 0
}
